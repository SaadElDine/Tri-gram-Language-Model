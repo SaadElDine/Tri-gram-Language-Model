{
  "nbformat": 4,
  "nbformat_minor": 0,
  "metadata": {
    "colab": {
      "provenance": [],
      "authorship_tag": "ABX9TyP1RVt4yRkgrnoqweptFtot"
    },
    "kernelspec": {
      "name": "python3",
      "display_name": "Python 3"
    },
    "language_info": {
      "name": "python"
    }
  },
  "cells": [
    {
      "cell_type": "markdown",
      "source": [
        "# **Download Data**"
      ],
      "metadata": {
        "id": "j8nD1R4zkFyi"
      }
    },
    {
      "cell_type": "code",
      "execution_count": 127,
      "metadata": {
        "id": "ehMYwcJ1LAZO",
        "colab": {
          "base_uri": "https://localhost:8080/"
        },
        "outputId": "f0bf08ec-572b-4b46-81e4-1383cbd8acad"
      },
      "outputs": [
        {
          "output_type": "stream",
          "name": "stdout",
          "text": [
            "--2024-02-18 15:04:30--  https://raw.githubusercontent.com/karpathy/makemore/master/names.txt\n",
            "Resolving raw.githubusercontent.com (raw.githubusercontent.com)... 185.199.108.133, 185.199.109.133, 185.199.110.133, ...\n",
            "Connecting to raw.githubusercontent.com (raw.githubusercontent.com)|185.199.108.133|:443... connected.\n",
            "HTTP request sent, awaiting response... 200 OK\n",
            "Length: 228145 (223K) [text/plain]\n",
            "Saving to: ‘names.txt.6’\n",
            "\n",
            "\rnames.txt.6           0%[                    ]       0  --.-KB/s               \rnames.txt.6         100%[===================>] 222.80K  --.-KB/s    in 0.03s   \n",
            "\n",
            "2024-02-18 15:04:30 (8.62 MB/s) - ‘names.txt.6’ saved [228145/228145]\n",
            "\n"
          ]
        }
      ],
      "source": [
        "!wget https://raw.githubusercontent.com/karpathy/makemore/master/names.txt"
      ]
    },
    {
      "cell_type": "markdown",
      "source": [
        "# **Read names**"
      ],
      "metadata": {
        "id": "6nf8yX8MkbM8"
      }
    },
    {
      "cell_type": "code",
      "source": [
        "words = open('names.txt', 'r').read().splitlines()"
      ],
      "metadata": {
        "id": "lIiJ9UPZVX5G"
      },
      "execution_count": 128,
      "outputs": []
    },
    {
      "cell_type": "markdown",
      "source": [
        "# **Show first 15 names**"
      ],
      "metadata": {
        "id": "vUcHkDMFksnM"
      }
    },
    {
      "cell_type": "code",
      "source": [
        "words[:15]"
      ],
      "metadata": {
        "colab": {
          "base_uri": "https://localhost:8080/"
        },
        "id": "DGusxzWaV_bu",
        "outputId": "d2bb507a-a5da-4841-951a-1828a2e03f0e"
      },
      "execution_count": 129,
      "outputs": [
        {
          "output_type": "execute_result",
          "data": {
            "text/plain": [
              "['emma',\n",
              " 'olivia',\n",
              " 'ava',\n",
              " 'isabella',\n",
              " 'sophia',\n",
              " 'charlotte',\n",
              " 'mia',\n",
              " 'amelia',\n",
              " 'harper',\n",
              " 'evelyn',\n",
              " 'abigail',\n",
              " 'emily',\n",
              " 'elizabeth',\n",
              " 'mila',\n",
              " 'ella']"
            ]
          },
          "metadata": {},
          "execution_count": 129
        }
      ]
    },
    {
      "cell_type": "markdown",
      "source": [
        "# **Initialize 3D Array**"
      ],
      "metadata": {
        "id": "yURznBwCkw4-"
      }
    },
    {
      "cell_type": "code",
      "source": [
        "import torch"
      ],
      "metadata": {
        "id": "NPXDiWACWDV2"
      },
      "execution_count": 130,
      "outputs": []
    },
    {
      "cell_type": "code",
      "source": [
        "N = torch.zeros((27, 27, 27), dtype=torch.int32)"
      ],
      "metadata": {
        "id": "AB9YxvXaZPQR"
      },
      "execution_count": 131,
      "outputs": []
    },
    {
      "cell_type": "code",
      "source": [
        "chars = sorted(list(set(''.join(words))))"
      ],
      "metadata": {
        "id": "9b1paLumZTpV"
      },
      "execution_count": 132,
      "outputs": []
    },
    {
      "cell_type": "code",
      "source": [
        "stoi = {s:i+1 for i,s in enumerate(chars)}\n",
        "stoi['.'] = 0\n",
        "itos = {i:s for s,i in stoi.items()}"
      ],
      "metadata": {
        "id": "ddnorhRtZYs-"
      },
      "execution_count": 133,
      "outputs": []
    },
    {
      "cell_type": "code",
      "source": [
        "stoi"
      ],
      "metadata": {
        "colab": {
          "base_uri": "https://localhost:8080/"
        },
        "id": "FghCVuX0a2f3",
        "outputId": "0c287457-ab51-45df-af41-3d956a9efe74"
      },
      "execution_count": 134,
      "outputs": [
        {
          "output_type": "execute_result",
          "data": {
            "text/plain": [
              "{'a': 1,\n",
              " 'b': 2,\n",
              " 'c': 3,\n",
              " 'd': 4,\n",
              " 'e': 5,\n",
              " 'f': 6,\n",
              " 'g': 7,\n",
              " 'h': 8,\n",
              " 'i': 9,\n",
              " 'j': 10,\n",
              " 'k': 11,\n",
              " 'l': 12,\n",
              " 'm': 13,\n",
              " 'n': 14,\n",
              " 'o': 15,\n",
              " 'p': 16,\n",
              " 'q': 17,\n",
              " 'r': 18,\n",
              " 's': 19,\n",
              " 't': 20,\n",
              " 'u': 21,\n",
              " 'v': 22,\n",
              " 'w': 23,\n",
              " 'x': 24,\n",
              " 'y': 25,\n",
              " 'z': 26,\n",
              " '.': 0}"
            ]
          },
          "metadata": {},
          "execution_count": 134
        }
      ]
    },
    {
      "cell_type": "code",
      "source": [
        "itos"
      ],
      "metadata": {
        "colab": {
          "base_uri": "https://localhost:8080/"
        },
        "id": "4mt6FMOUa3dL",
        "outputId": "b794c87a-3ba9-4eaf-acca-62b8bbd3f814"
      },
      "execution_count": 135,
      "outputs": [
        {
          "output_type": "execute_result",
          "data": {
            "text/plain": [
              "{1: 'a',\n",
              " 2: 'b',\n",
              " 3: 'c',\n",
              " 4: 'd',\n",
              " 5: 'e',\n",
              " 6: 'f',\n",
              " 7: 'g',\n",
              " 8: 'h',\n",
              " 9: 'i',\n",
              " 10: 'j',\n",
              " 11: 'k',\n",
              " 12: 'l',\n",
              " 13: 'm',\n",
              " 14: 'n',\n",
              " 15: 'o',\n",
              " 16: 'p',\n",
              " 17: 'q',\n",
              " 18: 'r',\n",
              " 19: 's',\n",
              " 20: 't',\n",
              " 21: 'u',\n",
              " 22: 'v',\n",
              " 23: 'w',\n",
              " 24: 'x',\n",
              " 25: 'y',\n",
              " 26: 'z',\n",
              " 0: '.'}"
            ]
          },
          "metadata": {},
          "execution_count": 135
        }
      ]
    },
    {
      "cell_type": "markdown",
      "source": [
        "\n",
        "\n",
        "# **Building Tri-Gram Model**"
      ],
      "metadata": {
        "id": "Or1AOOrEk3hO"
      }
    },
    {
      "cell_type": "code",
      "source": [
        "for w in words:\n",
        "  chs = ['.', '.'] + list(w) + ['.']\n",
        "  for ch1, ch2, ch3 in zip(chs, chs[1:], chs[2:]):\n",
        "    ix1 = stoi[ch1]\n",
        "    ix2 = stoi[ch2]\n",
        "    ix3 = stoi[ch3]\n",
        "    N[ix1, ix2, ix3] += 1"
      ],
      "metadata": {
        "id": "v8r4lOlCa5xE"
      },
      "execution_count": 136,
      "outputs": []
    },
    {
      "cell_type": "markdown",
      "source": [
        "# **Compute Probs**"
      ],
      "metadata": {
        "id": "WQHhWgWVlD_a"
      }
    },
    {
      "cell_type": "code",
      "source": [
        "# Smoothing the counts\n",
        "P = (N+1).float()\n",
        "P /= P.sum(dim=2, keepdims=True)"
      ],
      "metadata": {
        "id": "lK8-mISxbCJq"
      },
      "execution_count": 137,
      "outputs": []
    },
    {
      "cell_type": "code",
      "source": [
        "P /= P.sum(dim=2, keepdims=True)"
      ],
      "metadata": {
        "id": "y6R21NSTfJTV"
      },
      "execution_count": 138,
      "outputs": []
    },
    {
      "cell_type": "markdown",
      "source": [
        "# **Generate 50 new names**"
      ],
      "metadata": {
        "id": "AJb137TjlIpe"
      }
    },
    {
      "cell_type": "code",
      "source": [
        "g = torch.Generator().manual_seed(2147483647)\n",
        "\n",
        "for i in range(50):\n",
        "  out = []\n",
        "  ix1 = 0\n",
        "  ix2 = 0\n",
        "  while True:\n",
        "    p = P[ix1, ix2].float()\n",
        "    ix3 = torch.multinomial(p, num_samples=1, replacement=True, generator=g).item()\n",
        "    out.append(itos[ix3])\n",
        "    ix1, ix2 = ix2, ix3\n",
        "    if ix3 == 0:\n",
        "      break\n",
        "  print(''.join(out))"
      ],
      "metadata": {
        "colab": {
          "base_uri": "https://localhost:8080/"
        },
        "id": "EzJh_jKSfMog",
        "outputId": "c7043b7e-3b46-4d77-881b-db8740a8360b"
      },
      "execution_count": 139,
      "outputs": [
        {
          "output_type": "stream",
          "name": "stdout",
          "text": [
            "junide.\n",
            "jakasid.\n",
            "prelay.\n",
            "adin.\n",
            "kairritoper.\n",
            "sathen.\n",
            "sameia.\n",
            "yanileniassibduinrwin.\n",
            "lessiyanayla.\n",
            "te.\n",
            "farmumthyfortumj.\n",
            "ponn.\n",
            "lena.\n",
            "jaylicore.\n",
            "ya.\n",
            "jocken.\n",
            "jamilyn.\n",
            "kmikim.\n",
            "yah.\n",
            "sanaasnhavi.\n",
            "monszxhddion.\n",
            "mathani.\n",
            "zie.\n",
            "paun.\n",
            "ty.\n",
            "tin.\n",
            "sreli.\n",
            "ish.\n",
            "dyn.\n",
            "rumel.\n",
            "jemah.\n",
            "dawata.\n",
            "kha.\n",
            "cra.\n",
            "raydnh.\n",
            "adorta.\n",
            "malyn.\n",
            "brey.\n",
            "aur.\n",
            "lavarocbzthemiraya.\n",
            "ath.\n",
            "basely.\n",
            "tavisotten.\n",
            "salee.\n",
            "marlen.\n",
            "em.\n",
            "fabethellianten.\n",
            "chan.\n",
            "jazaodridyden.\n",
            "jhaliypvrgia.\n"
          ]
        }
      ]
    },
    {
      "cell_type": "markdown",
      "source": [
        "# **Evaluate Model**"
      ],
      "metadata": {
        "id": "LPB8Et09lMUD"
      }
    },
    {
      "cell_type": "code",
      "source": [
        "import math\n",
        "# Calculating perplexity for the first 15 words\n",
        "log_likelihood = 0.0\n",
        "n = 0\n",
        "for w in words[:15]:\n",
        "  chs = ['.', '.'] + list(w) + ['.']\n",
        "  for ch1, ch2, ch3 in zip(chs, chs[1:], chs[2:]):\n",
        "    ix1 = stoi[ch1]\n",
        "    ix2 = stoi[ch2]\n",
        "    ix3 = stoi[ch3]\n",
        "    prob = P[ix1, ix2, ix3]\n",
        "    logprob = torch.log(prob)\n",
        "    log_likelihood += logprob\n",
        "    n += 1\n",
        "\n",
        "print(f'{log_likelihood=}')\n",
        "nll = -log_likelihood\n",
        "print(f'{nll=}')\n",
        "print(f'{nll/n}')\n",
        "ppl = math.exp(nll/n)\n",
        "print(f'{ppl=}')"
      ],
      "metadata": {
        "colab": {
          "base_uri": "https://localhost:8080/"
        },
        "id": "QqcEkKskf0Wf",
        "outputId": "e9b6a5c8-26e4-4324-bb04-da7b833e87e2"
      },
      "execution_count": 140,
      "outputs": [
        {
          "output_type": "stream",
          "name": "stdout",
          "text": [
            "log_likelihood=tensor(-203.7296)\n",
            "nll=tensor(203.7296)\n",
            "2.017124891281128\n",
            "ppl=7.516682556920932\n"
          ]
        }
      ]
    },
    {
      "cell_type": "markdown",
      "source": [
        "\n",
        "*   The GOAL is to maximize the likelihood of the data w.r.t model parameters\n",
        "(here, statisitcal modeling)\n",
        "\n",
        "*   Equivalent to maximizing the log likelihood (because the log is a monotonic function)   \n",
        "\n",
        "*   Equivalent to minimizing the negative log likelihood\n",
        "\n",
        "*   Equivalent to minimizing the average negative log likelihood"
      ],
      "metadata": {
        "id": "qgSc6gZ0lQ7_"
      }
    },
    {
      "cell_type": "markdown",
      "source": [
        "# **Evaluating my name \"Saad\"**"
      ],
      "metadata": {
        "id": "prHsY53dllt1"
      }
    },
    {
      "cell_type": "code",
      "source": [
        "log_likelihood = 0.0\n",
        "n = 0\n",
        "\n",
        "for w in [\"saad\"]:\n",
        "  chs = ['.'] + ['.'] + list(w) + ['.'] + ['.']\n",
        "  for ch1, ch2, ch3 in zip(chs, chs[1:], chs[2:]):\n",
        "    ix1 = stoi[ch1]\n",
        "    ix2 = stoi[ch2]\n",
        "    ix3 = stoi[ch3]\n",
        "    prob = P[ix1, ix2, ix3]\n",
        "    logprob = torch.log(prob)\n",
        "    log_likelihood += logprob\n",
        "    n += 1\n",
        "    print(f'{ch1}{ch2}{ch3}: {prob:.4f}: {logprob:.4f}')\n",
        "\n",
        "print(f'{log_likelihood=}')\n",
        "nll = -log_likelihood\n",
        "print(f'{nll=}')\n",
        "print(f'{nll/n}')"
      ],
      "metadata": {
        "colab": {
          "base_uri": "https://localhost:8080/"
        },
        "id": "R-Kf5CHajbFn",
        "outputId": "0ba8970b-3721-4964-d80e-776267da4bc4"
      },
      "execution_count": 141,
      "outputs": [
        {
          "output_type": "stream",
          "name": "stdout",
          "text": [
            "..s: 0.0641: -2.7468\n",
            ".sa: 0.2863: -1.2508\n",
            "saa: 0.0350: -3.3519\n",
            "aad: 0.0823: -2.4970\n",
            "ad.: 0.1001: -2.3017\n",
            "d..: 0.0370: -3.2958\n",
            "log_likelihood=tensor(-15.4441)\n",
            "nll=tensor(15.4441)\n",
            "2.5740175247192383\n"
          ]
        }
      ]
    },
    {
      "cell_type": "code",
      "source": [],
      "metadata": {
        "id": "peVRul_yv7_6"
      },
      "execution_count": null,
      "outputs": []
    }
  ]
}